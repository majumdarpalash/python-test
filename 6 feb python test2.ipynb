{
 "cells": [
  {
   "cell_type": "code",
   "execution_count": 2,
   "metadata": {},
   "outputs": [
    {
     "name": "stdout",
     "output_type": "stream",
     "text": [
      "enter the number123\n",
      "the given number is not a palaindrome\n"
     ]
    }
   ],
   "source": [
    "1#. Given an integer, check whether it is a palindrome or not.\n",
    "\n",
    "n=int(input(\"enter the number\"))\n",
    "temp=0\n",
    "rev=0\n",
    "while(n>0):\n",
    "    dig=n%10\n",
    "    rev=rev*10+dig\n",
    "    n=n//10\n",
    "if (temp==rev):\n",
    "    print(\"the given number is a palindrome\")\n",
    "else:\n",
    "    print(\"the given number is not a palaindrome\")"
   ]
  },
  {
   "cell_type": "code",
   "execution_count": 5,
   "metadata": {},
   "outputs": [
    {
     "name": "stdout",
     "output_type": "stream",
     "text": [
      "enter the stringgood morning\n",
      "dooggninrom\n"
     ]
    }
   ],
   "source": [
    "2#. Reverse each word in a given string\n",
    "\n",
    "def reverse(sentence):\n",
    "    words=sentence.split(\" \")\n",
    "    nwwords=(word[::-1] for word in words)\n",
    "    nwsentence=\"\".join(nwwords)\n",
    "    return nwsentence\n",
    "sentence=input(\"enter the string\")\n",
    "print(reverse(sentence))\n",
    "    \n",
    "    "
   ]
  },
  {
   "cell_type": "code",
   "execution_count": 39,
   "metadata": {},
   "outputs": [
    {
     "name": "stdout",
     "output_type": "stream",
     "text": [
      "original dictionary:  {1: 2, 3: 2, 5: 6, 4: 3, 2: 1}\n",
      "dictionary by asc order by value:  [(1, 2), (2, 1), (3, 2), (4, 3), (5, 6)]\n",
      "dictionary by dsc order by value:  [(5, 6), (4, 3), (3, 2), (2, 1), (1, 2)]\n"
     ]
    }
   ],
   "source": [
    "3#.Write a Python script to sort (ascending and descending) a dictionary by value.\n",
    "import operator\n",
    "d={1:2,3:4,5:6,5:6,4:3,3:2,2:1}\n",
    "print(\"original dictionary: \",d)\n",
    "d_sorted=sorted(d.items(),key=operator.itemgetter(0))\n",
    "print(\"dictionary by asc order by value: \",d_sorted)\n",
    "d_sorted=sorted(d.items(),key=operator.itemgetter(0),reverse=True)\n",
    "print(\"dictionary by dsc order by value: \",d_sorted)"
   ]
  },
  {
   "cell_type": "code",
   "execution_count": 10,
   "metadata": {},
   "outputs": [
    {
     "name": "stdout",
     "output_type": "stream",
     "text": [
      "{1: 10, 2: 20, 3: 30, 4: 40, 5: 50, 6: 60}\n"
     ]
    }
   ],
   "source": [
    "4#. Write a Python script to concatenate following dictionaries to create a new one. Go to the editor\n",
    "\n",
    " #Sample Dictionary :\n",
    " #dic1={1:10, 2:20}\n",
    " #dic2={3:30, 4:40}\n",
    " #dic3={5:50,6:60}\n",
    " #Expected Result : {1: 10, 2: 20, 3: 30, 4: 40, 5: 50, 6: 60}\n",
    "    \n",
    "dict1={1:10,2:20}\n",
    "dict2={3:30,4:40}\n",
    "dict3={5:50,6:60}\n",
    "dict4={}\n",
    "for d in (dict1,dict2,dict3):\n",
    "    dict4.update(d)\n",
    "print(dict4)\n"
   ]
  },
  {
   "cell_type": "code",
   "execution_count": 11,
   "metadata": {},
   "outputs": [
    {
     "name": "stdout",
     "output_type": "stream",
     "text": [
      "enter a number5\n",
      "{1: 1, 2: 4, 3: 9, 4: 16, 5: 25}\n"
     ]
    }
   ],
   "source": [
    "5#. Write a Python script to generate and print a dictionary that contains a number (between 1 and n) in the form (x, x*x).\n",
    "#Go to the editor\n",
    " #Sample Dictionary ( n = 5) :\n",
    " #Expected Output : {1: 1, 2: 4, 3: 9, 4: 16, 5: 25}\n",
    "\n",
    "n=int(input(\"enter a number\"))\n",
    "d=dict()\n",
    "for x in range (1,n+1):\n",
    "    d[x]=x*x\n",
    "print(d)"
   ]
  },
  {
   "cell_type": "code",
   "execution_count": 24,
   "metadata": {},
   "outputs": [
    {
     "name": "stdout",
     "output_type": "stream",
     "text": [
      "original list: [{'barcelona': 1}, {'madrid': 2}, {'manchester': 3}, {'arsenal': 4}, {'barcelona': 1}]\n",
      "the new list is:  [{'madrid': 2}, {'manchester': 3}, {'arsenal': 4}, {'barcelona': 1}]\n"
     ]
    }
   ],
   "source": [
    "6#. Write a Python program to remove duplicates values from Dictionary\n",
    "\n",
    "lst1=[{'barcelona':1},{'madrid':2},{'manchester':3},{'arsenal':4},{'barcelona':1}]\n",
    "print(\"original list: \" + str(lst1))\n",
    "nwlst=[]\n",
    "for i in range(len(lst1)):\n",
    "    if lst1[i] not in (lst1[i+1:]):\n",
    "        nwlst.append(lst1[i])\n",
    "print(\"the new list is: \",nwlst)"
   ]
  },
  {
   "cell_type": "code",
   "execution_count": 30,
   "metadata": {},
   "outputs": [
    {
     "name": "stdout",
     "output_type": "stream",
     "text": [
      "Counter({'a': 400, 'b': 400, 'd': 400, 'c': 300})\n"
     ]
    }
   ],
   "source": [
    "7#. Write a Python program to combine two dictionary adding values for common keys. Go to the editor\n",
    "#d1 = {'a': 100, 'b': 200, 'c':300}\n",
    "#d2 = {'a': 300, 'b': 200, 'd':400}\n",
    " #Sample output: Counter({'a': 400, 'b': 400, 'd': 400, 'c': 300})\n",
    "\n",
    "from collections import Counter\n",
    "d1 = {'a': 100, 'b': 200, 'c':300}\n",
    "d2 = {'a': 300, 'b': 200, 'd':400}\n",
    "\n",
    "d=Counter(d1) + Counter(d2)\n",
    "print(d)\n"
   ]
  },
  {
   "cell_type": "code",
   "execution_count": 32,
   "metadata": {},
   "outputs": [
    {
     "name": "stdout",
     "output_type": "stream",
     "text": [
      "the original lst:  [{'V': 'S001'}, {'V': 'S002'}, {'VI': 'S001'}, {'VI': 'S005'}, {'VII': 'S005'}, {'V': 'S009'}, {'VIII': 'S007'}]\n",
      "unique values:  {'S007', 'S009', 'S001', 'S002', 'S005'}\n"
     ]
    }
   ],
   "source": [
    "#8. Write a Python program to print all unique values in a dictionary. Go to the editor\n",
    "#Sample Data : [{\"V\":\"S001\"}, {\"V\": \"S002\"}, {\"VI\": \"S001\"}, {\"VI\": \"S005\"}, {\"VII\":\"S005\"}, {\"V\":\"S009\"},{\"VIII\":\"S007\"}]\n",
    "#Expected Output : Unique Values: {'S005', 'S002', 'S007', 'S001', 'S009'}\n",
    "\n",
    "lst= [{\"V\":\"S001\"}, {\"V\": \"S002\"}, {\"VI\": \"S001\"}, {\"VI\": \"S005\"}, {\"VII\":\"S005\"}, {\"V\":\"S009\"},{\"VIII\":\"S007\"}]\n",
    "print(\"the original lst: \",lst)\n",
    "univalue=set(val for dict in lst for val in dict.values())\n",
    "print(\"unique values: \",univalue)"
   ]
  },
  {
   "cell_type": "code",
   "execution_count": 38,
   "metadata": {},
   "outputs": [
    {
     "name": "stdout",
     "output_type": "stream",
     "text": [
      "{'w': 1, '3': 1, 'r': 2, 'e': 2, 's': 1, 'o': 1, 'u': 1, 'c': 1}\n"
     ]
    }
   ],
   "source": [
    "#9. Write a Python program to create a dictionary from a string. Go to the editor\n",
    "#Note: Track the count of the letters from the string.\n",
    "#Sample string : 'w3resource'\n",
    "#Expected output: {'3': 1, 's': 1, 'r': 2, 'u': 1, 'w': 1, 'c': 1, 'e': 2, 'o': 1}\n",
    "\n",
    "from collections import defaultdict, Counter\n",
    "str1 = 'w3resource' \n",
    "dict1 = {}\n",
    "for letter in str1:\n",
    "    dict1[letter] = dict1.get(letter, 0) + 1\n",
    "print(dict1)\n",
    "  \n"
   ]
  },
  {
   "cell_type": "code",
   "execution_count": 37,
   "metadata": {},
   "outputs": [
    {
     "name": "stdout",
     "output_type": "stream",
     "text": [
      "['b', 'e', 'c']\n"
     ]
    }
   ],
   "source": [
    "10#. Write a Python program to find the highest 3 values in a dictionary.\n",
    "\n",
    "from heapq import nlargest\n",
    "my_dict = {'a':500, 'b':5874, 'c': 560,'d':400, 'e':5874, 'f': 20}  \n",
    "threelargest= nlargest(3, my_dict, key=my_dict.get)\n",
    "print(threelargest)"
   ]
  },
  {
   "cell_type": "code",
   "execution_count": null,
   "metadata": {},
   "outputs": [],
   "source": []
  }
 ],
 "metadata": {
  "kernelspec": {
   "display_name": "Python 3",
   "language": "python",
   "name": "python3"
  },
  "language_info": {
   "codemirror_mode": {
    "name": "ipython",
    "version": 3
   },
   "file_extension": ".py",
   "mimetype": "text/x-python",
   "name": "python",
   "nbconvert_exporter": "python",
   "pygments_lexer": "ipython3",
   "version": "3.7.4"
  }
 },
 "nbformat": 4,
 "nbformat_minor": 2
}
