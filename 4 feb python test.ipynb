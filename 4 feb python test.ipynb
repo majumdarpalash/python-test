{
 "cells": [
  {
   "cell_type": "code",
   "execution_count": 2,
   "metadata": {},
   "outputs": [
    {
     "name": "stdout",
     "output_type": "stream",
     "text": [
      "enter the firstnamepalash\n",
      "enter the lastnamemajumdar\n",
      "majumdar palash\n"
     ]
    }
   ],
   "source": [
    "1#Write a Python program which accepts the user's first and last name and print them in reverse order with a space\n",
    " #between them.\n",
    "\n",
    "firstname=input(\"enter the firstname\")\n",
    "lastname=input(\"enter the lastname\")\n",
    "print(lastname +\" \"+firstname)\n"
   ]
  },
  {
   "cell_type": "code",
   "execution_count": 4,
   "metadata": {},
   "outputs": [
    {
     "name": "stdout",
     "output_type": "stream",
     "text": [
      "comma seperated numbers1,2,3\n",
      "List:  ['1', '2', '3']\n",
      "Tuple:  ('1', '2', '3')\n"
     ]
    }
   ],
   "source": [
    "2.# Write a Python program which accepts a sequence of comma-separated numbers from user and generate a list and a tuple\n",
    "#with those numbers. \n",
    "#Sample data : 3, 5, 7, 23\n",
    "#Output :\n",
    "#List : ['3', ' 5', ' 7', ' 23']\n",
    "#Tuple : ('3', ' 5', ' 7', ' 23')\n",
    "\n",
    "input1=input(\"comma seperated numbers\")\n",
    "list=input1.split(\",\")\n",
    "tuple=tuple(list)\n",
    "print(\"List: \",list)\n",
    "print(\"Tuple: \",tuple)\n"
   ]
  },
  {
   "cell_type": "code",
   "execution_count": 2,
   "metadata": {},
   "outputs": [
    {
     "name": "stdout",
     "output_type": "stream",
     "text": [
      "enter the filename: j.xxc\n",
      "the ext of file is: 'xxc'\n"
     ]
    }
   ],
   "source": [
    "3.# Write a Python program to accept a filename from the user and print the extension of that. \n",
    " #Sample filename : abc.java\n",
    " #Output : java\n",
    "\n",
    "filename=input(\"enter the filename: \")\n",
    "fileext=filename.split(\".\")\n",
    "print(\"the ext of file is: \" + repr(fileext[-1]))"
   ]
  },
  {
   "cell_type": "code",
   "execution_count": 14,
   "metadata": {},
   "outputs": [
    {
     "name": "stdout",
     "output_type": "stream",
     "text": [
      "Red\n",
      "Black\n"
     ]
    }
   ],
   "source": [
    "4.# Write a Python program to display the first and last colors from the following list.\n",
    "\n",
    "\n",
    "colour_list = [\"Red\",\"Green\",\"White\" ,\"Black\"]\n",
    "print(\"%s\" %(colour_list[0]))\n",
    "print(\"%s\" %(colour_list[-1]))\n",
    "\n",
    "    \n"
   ]
  },
  {
   "cell_type": "code",
   "execution_count": 16,
   "metadata": {},
   "outputs": [
    {
     "name": "stdout",
     "output_type": "stream",
     "text": [
      "input an interger value5\n",
      "615\n"
     ]
    }
   ],
   "source": [
    "5.# Write a Python program that accepts an integer (n) and computes the value of n+nn+nnn.\n",
    "  #Sample value of n is 5\n",
    "  #Expected Result : 615\n",
    "\n",
    "x=int(input(\"input an interger value\"))\n",
    "x1=int(\"%s\" %(x))\n",
    "x2=int(\"%s%s\" %(x,x))\n",
    "x3=int(\"%s%s%s\" %(x,x,x))\n",
    "print(x1+x2+x3)\n"
   ]
  },
  {
   "cell_type": "code",
   "execution_count": 20,
   "metadata": {},
   "outputs": [
    {
     "name": "stdout",
     "output_type": "stream",
     "text": [
      "6\n",
      "45\n"
     ]
    }
   ],
   "source": [
    "6.#Write a Python program to calculate the sum of three given numbers, if the values are equal then return three times\n",
    " #of their sum.\n",
    "    \n",
    "def sum(a,b,c):\n",
    "    \n",
    "    sum=a+b+c\n",
    "    \n",
    "    if (a==b==c):\n",
    "        sum=sum*3\n",
    "        return sum\n",
    "    else:\n",
    "        return sum\n",
    "\n",
    "print(sum(1,2,3))\n",
    "print(sum(5,5,5))\n"
   ]
  },
  {
   "cell_type": "code",
   "execution_count": 27,
   "metadata": {},
   "outputs": [
    {
     "name": "stdout",
     "output_type": "stream",
     "text": [
      "Isplenty\n",
      "Isempty\n"
     ]
    }
   ],
   "source": [
    "7#. Write a Python program to get a new string from a given string where \"Is\" has been added to the front. \n",
    " #If the given string already begins with \"Is\" then return the string unchanged.\n",
    "    \n",
    "def nwstr(str):\n",
    "    if len(str)>=2 and str[:2]==\"Is\":\n",
    "        return str\n",
    "    else:\n",
    "        return \"Is\"+ str\n",
    "print(nwstr(\"plenty\"))\n",
    "print(nwstr(\"Isempty\"))"
   ]
  },
  {
   "cell_type": "code",
   "execution_count": 36,
   "metadata": {},
   "outputs": [
    {
     "name": "stdout",
     "output_type": "stream",
     "text": [
      "2\n",
      "4\n",
      "5\n"
     ]
    }
   ],
   "source": [
    "8#. Write a Python program to count the number 4 in a given list.\n",
    "\n",
    "def nwlist(nums):\n",
    "    count=0\n",
    "    for num in nums:\n",
    "        if num==4:\n",
    "            count=count+1\n",
    "    \n",
    "    return count\n",
    "print(nwlist([1,2,3,4,5,5,4]))\n",
    "print(nwlist([4,4,5,6,4,3,4,5]))\n",
    "print(nwlist([1,2,3,4,5,6,7,8,9,4,4,4,4]))\n"
   ]
  },
  {
   "cell_type": "code",
   "execution_count": 39,
   "metadata": {},
   "outputs": [
    {
     "name": "stdout",
     "output_type": "stream",
     "text": [
      "{'Black', 'White'}\n"
     ]
    }
   ],
   "source": [
    "9.# Write a Python program to print out a set containing all the colors from color_list_1 \n",
    "#which are not present in color_list_2.\n",
    "#Test Data :\n",
    " #color_list_1 = set([\"White\", \"Black\", \"Red\"])\n",
    "#color_list_2 = set([\"Red\", \"Green\"])\n",
    "#Expected Output :\n",
    "#{'Black', 'White'}\n",
    "\n",
    "colourlst1= set([\"White\", \"Black\", \"Red\"])\n",
    "colourlst2= set([\"Red\", \"Green\"])\n",
    "nwcolourlst=[]\n",
    "for colour in colourlst1:\n",
    "    if colour not in colourlst2:\n",
    "        nwcolourlst.append(colour)\n",
    "        \n",
    "nwlst=set(nwcolourlst)\n",
    "print(nwlst)\n",
    "\n"
   ]
  },
  {
   "cell_type": "code",
   "execution_count": 42,
   "metadata": {},
   "outputs": [
    {
     "name": "stdout",
     "output_type": "stream",
     "text": [
      "20\n",
      "20\n",
      "25\n"
     ]
    }
   ],
   "source": [
    "10#. Write a Python program to sum of two given integers. However, if the sum is between 15 to 20 it will return 20.\n",
    "\n",
    "def sum(a,b):\n",
    "    sum=a+b\n",
    "    if sum in range(15,20):\n",
    "        return 20\n",
    "    else:\n",
    "        return sum\n",
    "\n",
    "print(sum(10,7))\n",
    "print(sum(10,10))\n",
    "print(sum(10,15))"
   ]
  },
  {
   "cell_type": "code",
   "execution_count": null,
   "metadata": {},
   "outputs": [],
   "source": []
  }
 ],
 "metadata": {
  "kernelspec": {
   "display_name": "Python 3",
   "language": "python",
   "name": "python3"
  },
  "language_info": {
   "codemirror_mode": {
    "name": "ipython",
    "version": 3
   },
   "file_extension": ".py",
   "mimetype": "text/x-python",
   "name": "python",
   "nbconvert_exporter": "python",
   "pygments_lexer": "ipython3",
   "version": "3.7.4"
  }
 },
 "nbformat": 4,
 "nbformat_minor": 2
}
